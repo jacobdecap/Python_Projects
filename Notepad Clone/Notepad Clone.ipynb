{
 "cells": [
  {
   "cell_type": "code",
   "execution_count": 5,
   "id": "d5a3ce84",
   "metadata": {},
   "outputs": [],
   "source": [
    "from PyQt5.QtWidgets import *\n",
    "from PyQt5.QtGui import QFont\n",
    "from PyQt5 import uic"
   ]
  },
  {
   "cell_type": "code",
   "execution_count": 6,
   "id": "e3246b78",
   "metadata": {},
   "outputs": [],
   "source": [
    "class MyGUI(QMainWindow):\n",
    "    \n",
    "    def __init__(self):\n",
    "        super(MyGUI,self).__init__()\n",
    "        uic.loadUi('Editor.ui', self)\n",
    "        self.show()\n",
    "        \n",
    "        self.setWindowTitle('Notepad Clone in Python')\n",
    "        \n",
    "        self.action10pt.triggered.connect(lambda: self.change_size(10))\n",
    "        self.action12pt.triggered.connect(lambda: self.change_size(12))\n",
    "        self.action18pt.triggered.connect(lambda: self.change_size(18))\n",
    "        self.action24pt.triggered.connect(lambda: self.change_size(24))\n",
    "        \n",
    "        self.actionOpen.triggered.connect(self.open_file)\n",
    "        self.actionSave.triggered.connect(self.save_file)\n",
    "        self.actionClose.triggered.connect(exit)\n",
    "    \n",
    "    #Function to change font size\n",
    "    def change_size(self, size):\n",
    "        self.plainTextEdit.setFont(QFont('Calibri',size))\n",
    "    \n",
    "    #Function to open a file\n",
    "    def open_file(self):\n",
    "        options = QFileDialog.Options()\n",
    "        filename, _ = QFileDialog.getOpenFileName(self, \"Open File\", \"\", \"Text Files (*.txt);;Python Files (*.py)\", options = options)\n",
    "        if filename != \"\":\n",
    "            with open(filename, \"r\") as f:\n",
    "                self.plainTextEdit.setPlainText(f.read())\n",
    "                \n",
    "    def save_file(self):\n",
    "        options = QFileDialog.Options()\n",
    "        filename, _ = QFileDialog.getSaveFileName(self, \"Save File\",\"\",\"Text Files (*.txt);;All Files (*)\",options = options)\n",
    "        if filename != \"\":\n",
    "            with open(filename,\"w\") as f:\n",
    "                f.write(self.plainTextEdit.toPlainText())\n",
    "    \n",
    "    def closeEvent(self, event):\n",
    "        dialog = QMessageBox()\n",
    "        dialog.setText(\"Do you want to save your work?\")\n",
    "        dialog.addButton(QPushButton(\"Yes\"), QMessageBox.YesRole) #0\n",
    "        dialog.addButton(QPushButton(\"No\"), QMessageBox.NoRole) #1\n",
    "        dialog.addButton(QPushButton(\"Cancel\"), QMessageBox.RejectRole) #2\n",
    "        \n",
    "        answer = dialog.exec_()\n",
    "        \n",
    "        if answer == 0:\n",
    "            self.save_file()\n",
    "            event.accept()\n",
    "        elif answer == 2:\n",
    "            event.ignore()\n",
    "\n",
    "            \n",
    "            "
   ]
  },
  {
   "cell_type": "code",
   "execution_count": null,
   "id": "fd8e16af",
   "metadata": {},
   "outputs": [],
   "source": [
    "def main():\n",
    "    app = QApplication([])\n",
    "    window = MyGUI()\n",
    "    app.exec_()\n",
    "    \n",
    "if __name__ == '__main__':\n",
    "    main()"
   ]
  },
  {
   "cell_type": "code",
   "execution_count": null,
   "id": "c5e26ef8",
   "metadata": {},
   "outputs": [],
   "source": []
  }
 ],
 "metadata": {
  "kernelspec": {
   "display_name": "Python 3 (ipykernel)",
   "language": "python",
   "name": "python3"
  },
  "language_info": {
   "codemirror_mode": {
    "name": "ipython",
    "version": 3
   },
   "file_extension": ".py",
   "mimetype": "text/x-python",
   "name": "python",
   "nbconvert_exporter": "python",
   "pygments_lexer": "ipython3",
   "version": "3.9.6"
  }
 },
 "nbformat": 4,
 "nbformat_minor": 5
}
