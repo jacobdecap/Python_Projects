{
 "cells": [
  {
   "cell_type": "code",
   "execution_count": 3,
   "id": "ffb5b140",
   "metadata": {},
   "outputs": [],
   "source": [
    "#pip install speedtest-cli\n",
    "import speedtest"
   ]
  },
  {
   "cell_type": "code",
   "execution_count": 7,
   "id": "33a3446b",
   "metadata": {},
   "outputs": [
    {
     "name": "stdout",
     "output_type": "stream",
     "text": [
      "Loading Server list...\n",
      "Finding best Server...\n",
      "{'url': 'http://speedtest.weendeavor.com:8080/speedtest/upload.php', 'lat': '39.5148', 'lon': '-86.7939', 'name': 'Cloverdale, IN', 'country': 'United States', 'cc': 'US', 'sponsor': 'Endeavor Communications', 'id': '10951', 'host': 'speedtest.weendeavor.com:8080', 'd': 48.1544761002519, 'latency': 44.623}\n"
     ]
    }
   ],
   "source": [
    "#Creating a speedtest object\n",
    "test = speedtest.Speedtest()\n",
    "\n",
    "print('Loading Server list...')\n",
    "#Get list of servers\n",
    "test.get_servers()\n",
    "\n",
    "print('Finding best Server...')\n",
    "#Find the best server\n",
    "best = test.get_best_server()\n",
    "\n",
    "print(best)"
   ]
  },
  {
   "cell_type": "code",
   "execution_count": 10,
   "id": "f5502550",
   "metadata": {},
   "outputs": [
    {
     "name": "stdout",
     "output_type": "stream",
     "text": [
      "Found: speedtest.weendeavor.com:8080 located in United States\n"
     ]
    }
   ],
   "source": [
    "print(f\"Found: {best['host']} located in {best['country']}\")"
   ]
  },
  {
   "cell_type": "code",
   "execution_count": 15,
   "id": "d107f216",
   "metadata": {},
   "outputs": [
    {
     "name": "stdout",
     "output_type": "stream",
     "text": [
      "Performing download test...\n",
      "Download speed: 42.01 Mb/s\n",
      "Performing upload test...\n",
      "Upload speed: 10.82 Mb/s\n",
      "Ping: 44.623 ms\n"
     ]
    }
   ],
   "source": [
    "print('Performing download test...')\n",
    "download_result = test.download()\n",
    "print(f\"Download speed: {download_result /1024 /1024:.2f} Mb/s\")\n",
    "\n",
    "print('Performing upload test...')\n",
    "upload_result = test.upload()\n",
    "print(f\"Upload speed: {upload_result /1024 /1024:.2f} Mb/s\")\n",
    "\n",
    "ping_result = test.results.ping\n",
    "print(f\"Ping: {ping_result} ms\")"
   ]
  },
  {
   "cell_type": "code",
   "execution_count": null,
   "id": "5623523f",
   "metadata": {},
   "outputs": [],
   "source": []
  }
 ],
 "metadata": {
  "kernelspec": {
   "display_name": "Python 3 (ipykernel)",
   "language": "python",
   "name": "python3"
  },
  "language_info": {
   "codemirror_mode": {
    "name": "ipython",
    "version": 3
   },
   "file_extension": ".py",
   "mimetype": "text/x-python",
   "name": "python",
   "nbconvert_exporter": "python",
   "pygments_lexer": "ipython3",
   "version": "3.9.6"
  }
 },
 "nbformat": 4,
 "nbformat_minor": 5
}
