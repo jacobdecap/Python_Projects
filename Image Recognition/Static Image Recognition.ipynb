{
 "cells": [
  {
   "cell_type": "code",
   "execution_count": 1,
   "id": "ae605921",
   "metadata": {},
   "outputs": [],
   "source": [
    "import numpy as np\n",
    "import cv2"
   ]
  },
  {
   "cell_type": "code",
   "execution_count": 2,
   "id": "26d62d52",
   "metadata": {},
   "outputs": [],
   "source": [
    "image_path = 'Pictures\\pic6.jpg'\n",
    "prototext_path = 'MobileNetSSD_deploy.prototxt'\n",
    "model_path = 'MobileNetSSD_deploy.caffemodel'"
   ]
  },
  {
   "cell_type": "code",
   "execution_count": 3,
   "id": "b7b7780c",
   "metadata": {},
   "outputs": [],
   "source": [
    "min_confidence = .1"
   ]
  },
  {
   "cell_type": "code",
   "execution_count": 4,
   "id": "f28d1656",
   "metadata": {},
   "outputs": [],
   "source": [
    "classes  = ['background','aeroplane','bicycle','bird','boat','bottle','bus','car','cat','chair','cow','diningtable','dog'\n",
    "           'horse','motorbike','pottedplant','person','sheep','sofa','train','tvmonitor']"
   ]
  },
  {
   "cell_type": "code",
   "execution_count": 5,
   "id": "2958e9ef",
   "metadata": {},
   "outputs": [],
   "source": [
    "np.random.seed = 3433\n",
    "colors = np.random.uniform(0,255, size = (len(classes),3))"
   ]
  },
  {
   "cell_type": "code",
   "execution_count": 6,
   "id": "9b69c82b",
   "metadata": {},
   "outputs": [],
   "source": [
    "net = cv2.dnn.readNetFromCaffe(prototext_path,model_path)\n",
    "image = cv2.imread(image_path)\n",
    "height,width = image.shape[0],image.shape[1]\n",
    "\n",
    "#Binary Large OBject\n",
    "blob = cv2.dnn.blobFromImage(cv2.resize(image,(300,300)),0.007,(300,300),130)"
   ]
  },
  {
   "cell_type": "code",
   "execution_count": 7,
   "id": "87e057b2",
   "metadata": {},
   "outputs": [],
   "source": [
    "net.setInput(blob)\n",
    "detected_objects = net.forward()"
   ]
  },
  {
   "cell_type": "code",
   "execution_count": 8,
   "id": "e7916719",
   "metadata": {},
   "outputs": [],
   "source": [
    "for i in range(detected_objects.shape[2]):\n",
    "    confidence = detected_objects[0][0][i][2]\n",
    "    if confidence > min_confidence:\n",
    "        class_index = int(detected_objects[0,0,i,1])\n",
    "        \n",
    "        upper_left_x = int(detected_objects[0,0,i,3] * width)\n",
    "        upper_left_y = int(detected_objects[0,0,i,4] * height)\n",
    "        lower_right_x = int(detected_objects[0,0,i,5] * width)\n",
    "        lower_right_y = int(detected_objects[0,0,i,6] * height)\n",
    "        \n",
    "        prediction_text = f\"{classes[class_index]}:{confidence:.2f}%\"\n",
    "        cv2.rectangle(image,(upper_left_x,upper_left_y),(lower_right_x,lower_right_y),colors[class_index],3)\n",
    "        cv2.putText(image,prediction_text,(upper_left_x, \n",
    "                    upper_left_y-15 if upper_left_y > 30 else upper_left_y +15), \n",
    "                    cv2.FONT_HERSHEY_SIMPLEX,0.6, colors[class_index],2)\n",
    "\n",
    "cv2.imshow('Detected Objects',image)\n",
    "cv2.waitKey(0)\n",
    "cv2.destroyAllWindows()"
   ]
  }
 ],
 "metadata": {
  "kernelspec": {
   "display_name": "Python 3 (ipykernel)",
   "language": "python",
   "name": "python3"
  },
  "language_info": {
   "codemirror_mode": {
    "name": "ipython",
    "version": 3
   },
   "file_extension": ".py",
   "mimetype": "text/x-python",
   "name": "python",
   "nbconvert_exporter": "python",
   "pygments_lexer": "ipython3",
   "version": "3.9.6"
  }
 },
 "nbformat": 4,
 "nbformat_minor": 5
}
